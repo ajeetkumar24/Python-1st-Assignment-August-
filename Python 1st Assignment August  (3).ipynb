{
 "cells": [
  {
   "cell_type": "markdown",
   "id": "b33bbbbe-e8b3-443a-bd7c-3beaaba37e48",
   "metadata": {},
   "source": [
    "1. explain the key features of python that make it a popular choice for programming.\n",
    "\n",
    "\n",
    " Ans- \"Python's popularity as a programming language stems from its easy-to-learn syntax, readability, extensive standard library, versatility across various domains like data science and web development, strong community support, and a wide range of powerful libraries that make it efficient for a variety of tasks, particularly in areas like machine learning and data analysis\".\n",
    "\n",
    "  Key features that contribute to Python's popularity:\n",
    "  \n",
    "   Simple and Readable Syntax: Python prioritizes code readability with a clean, straightforward syntax that uses English-  like keywords, making it easier for beginners to understand and write code.\n",
    "\n",
    "   Interpreted Language: Python code is executed line by line, allowing for quick debugging and rapid development cycles.\n",
    "  \n",
    "   Object-Oriented Programming: Python fully supports object-oriented programming paradigms, enabling code organization and reusability.\n",
    "\n",
    " Large Standard Library: Python comes with a comprehensive standard library containing modules for various tasks, reducing the need for external libraries for basic functionalities.\n",
    "\n",
    "   Dynamic Typing: Variables in Python do not require explicit type declaration, making coding faster and more flexible.\n",
    "  \n",
    "  Cross-Platform Compatibility: Python code can run on different operating systems without significant modifications due to its portability.\n",
    "  \n",
    "   Powerful Libraries for Data Science and Machine Learning: Libraries like NumPy, Pandas, Scikit-learn, and Matplotlib are specifically designed for data analysis and machine learning, making Python a go-to choice in these fields.\n",
    "\n",
    "   Web Development Frameworks:\n",
    "   Frameworks like Django and Flask provide robust tools for building web applications quickly and efficiently.\n",
    "\n",
    " Overall, Python's combination of ease of use, versatility, powerful libraries, and strong community support makes it a popular choice for both beginners and experienced programmers across various application areas.\n",
    "\n",
    " \n",
    "\n",
    "\n"
   ]
  },
  {
   "cell_type": "code",
   "execution_count": null,
   "id": "fa893f47-4e30-41db-af9a-700d478ef692",
   "metadata": {},
   "outputs": [],
   "source": []
  },
  {
   "cell_type": "code",
   "execution_count": null,
   "id": "9e5634dc-28be-49eb-b7e8-7799130058f9",
   "metadata": {},
   "outputs": [],
   "source": []
  },
  {
   "cell_type": "code",
   "execution_count": null,
   "id": "6f2d5cad-7850-4601-88ce-ba0cd01e6a97",
   "metadata": {},
   "outputs": [],
   "source": []
  },
  {
   "cell_type": "markdown",
   "id": "69e7089c-60eb-4c5c-a373-4501695c4275",
   "metadata": {},
   "source": [
    "2.  Describe the role of Predefined Keywords in Python and provide examples of how they are used in a program\n",
    "\n",
    " Ans- \" In Python, predefined keywords are reserved words with specific, fixed meanings that act as the building blocks of the language syntax, used to define structures like loops, conditional statements, functions, and variable declarations; they cannot be used as variable names or identifiers, ensuring code clarity and consistency\".\n",
    "  \n",
    "  Example keywords and their usage:\n",
    "  if and else: Used to create conditional statements based on whether a condition is true or false.\n",
    " \n"
   ]
  },
  {
   "cell_type": "code",
   "execution_count": 2,
   "id": "fa15516e-e43d-47ee-9a9a-84f79f4a55f3",
   "metadata": {},
   "outputs": [
    {
     "name": "stdout",
     "output_type": "stream",
     "text": [
      "You are eligible to vote\n"
     ]
    }
   ],
   "source": [
    "  #if and else: Used to create conditional statements based on whether a condition is true or false.\n",
    "    age = 18\n",
    "\n",
    "    if age >= 18:\n",
    "\n",
    "        print(\"You are eligible to vote\")\n",
    "\n",
    "    else:\n",
    "\n",
    "        print(\"You are not eligible to vote\")\n"
   ]
  },
  {
   "cell_type": "code",
   "execution_count": null,
   "id": "4cbad4c0-f8e4-4466-99c3-4dc3bd862f31",
   "metadata": {},
   "outputs": [],
   "source": [
    "#for: Used to iterate through a sequence of elements (like a list).\n",
    "\n",
    "    fruits = [\"apple\", \"banana\", \"orange\"]\n",
    "\n",
    "    for fruit in fruits:\n",
    "\n",
    "        print(fruit)\n"
   ]
  },
  {
   "cell_type": "code",
   "execution_count": null,
   "id": "f105fe8e-a325-4773-87bb-7a182a340bf4",
   "metadata": {},
   "outputs": [],
   "source": [
    "#while: Used to repeat a block of code as long as a condition remains true.\n",
    "        count = 0\n",
    "\n",
    "    while count < 5:\n",
    "\n",
    "        print(count)\n",
    "\n",
    "        count += 1\n"
   ]
  },
  {
   "cell_type": "code",
   "execution_count": null,
   "id": "6fb1bdec-9810-4fe9-8068-1d60b5c5add1",
   "metadata": {},
   "outputs": [],
   "source": [
    "#def: Used to define a function.\n",
    "\n",
    "    def greet(name):\n",
    "\n",
    "        print(\"Hello, \" + name + \"!\") \n"
   ]
  },
  {
   "cell_type": "code",
   "execution_count": null,
   "id": "010e3945-43e5-4ce8-8afa-bdb2bac30123",
   "metadata": {},
   "outputs": [],
   "source": [
    "#return: Used inside a function to specify the value that should be returned when the function is called.\n",
    "    def add(x, y):\n",
    "\n",
    "        return x + y\n"
   ]
  },
  {
   "cell_type": "code",
   "execution_count": null,
   "id": "a3630abe-536b-4590-976a-8b49bdc37b2b",
   "metadata": {},
   "outputs": [],
   "source": [
    "#break: Used to exit a loop prematurely.\n",
    "    for num in range(10):\n",
    "\n",
    "        if num == 5:\n",
    "\n",
    "            break\n",
    "\n",
    "        print(num)\n"
   ]
  },
  {
   "cell_type": "code",
   "execution_count": null,
   "id": "ff311414-62c9-45bc-8f26-f3164120ca44",
   "metadata": {},
   "outputs": [],
   "source": [
    "#try...except: Used to handle potential errors in code.\n",
    "\n",
    "    try:\n",
    "\n",
    "        result = 10 / 0\n",
    "\n",
    "    except ZeroDivisionError:\n",
    "\n",
    "        print(\"Cannot divide by zero\")\n"
   ]
  },
  {
   "cell_type": "markdown",
   "id": "1ef0e675-b944-4a5b-82e0-5d5ccb396bdf",
   "metadata": {},
   "source": [
    "  Key points about Python keywords:\n",
    "Case-sensitive: All keywords are written in lowercase, except for True, False, and None.\n",
    "Cannot be re-used: You cannot use a keyword as a variable name or function name.\n",
    "Important for syntax: Keywords define the structure and functionality of Python code.\n"
   ]
  },
  {
   "cell_type": "code",
   "execution_count": null,
   "id": "066493c5-67c2-4609-9658-6119ca4c513e",
   "metadata": {},
   "outputs": [],
   "source": []
  },
  {
   "cell_type": "code",
   "execution_count": null,
   "id": "a5441e92-e5be-444b-b2cb-56490793db71",
   "metadata": {},
   "outputs": [],
   "source": []
  },
  {
   "cell_type": "code",
   "execution_count": null,
   "id": "eb8d89b6-5035-426f-b5b3-a87cb9c1af74",
   "metadata": {},
   "outputs": [],
   "source": []
  },
  {
   "cell_type": "markdown",
   "id": "22774a4b-f0d1-4087-a254-b806131370b8",
   "metadata": {},
   "source": [
    "3. Compare and Contrast Mutable and Immutable objects in Python with examples.\n",
    "\n",
    "Ans -  \" In Python, objects are categorized as either mutable or immutable based on whether their values can be changed after creation. Here's a breakdown with examples: \n",
    " \n",
    "  Mutable Objects: Mutable objects can be modified after they are created. This means you can change their internal state without creating a new object.\n",
    "  \n"
   ]
  },
  {
   "cell_type": "code",
   "execution_count": 22,
   "id": "8a8bcd14-a0d2-4f64-bb13-bcb260c57980",
   "metadata": {},
   "outputs": [
    {
     "data": {
      "text/plain": [
       "6"
      ]
     },
     "execution_count": 22,
     "metadata": {},
     "output_type": "execute_result"
    }
   ],
   "source": [
    "#Mutable Objects\n",
    "a=6\n",
    "a"
   ]
  },
  {
   "cell_type": "code",
   "execution_count": 23,
   "id": "0db31eef-eccc-4723-8451-840b893102d0",
   "metadata": {},
   "outputs": [
    {
     "data": {
      "text/plain": [
       "'Ajeet'"
      ]
     },
     "execution_count": 23,
     "metadata": {},
     "output_type": "execute_result"
    }
   ],
   "source": [
    "b=\"Ajeet\"\n",
    "b"
   ]
  },
  {
   "cell_type": "code",
   "execution_count": 24,
   "id": "24e50b40-8561-4317-9204-db0d9ace963b",
   "metadata": {},
   "outputs": [
    {
     "data": {
      "text/plain": [
       "'A'"
      ]
     },
     "execution_count": 24,
     "metadata": {},
     "output_type": "execute_result"
    }
   ],
   "source": [
    "b[0]"
   ]
  },
  {
   "cell_type": "code",
   "execution_count": 25,
   "id": "e223351f-719b-4d90-8080-2f1b616b5cdd",
   "metadata": {},
   "outputs": [
    {
     "data": {
      "text/plain": [
       "'e'"
      ]
     },
     "execution_count": 25,
     "metadata": {},
     "output_type": "execute_result"
    }
   ],
   "source": [
    "b[2]"
   ]
  },
  {
   "cell_type": "code",
   "execution_count": 30,
   "id": "62935b53-c44a-4bf2-bbfa-c7ff34019d13",
   "metadata": {},
   "outputs": [
    {
     "data": {
      "text/plain": [
       "[1, 2, 3, 4.3, (3+5j), 'true', 'Ajeet']"
      ]
     },
     "execution_count": 30,
     "metadata": {},
     "output_type": "execute_result"
    }
   ],
   "source": [
    "#Another type of Data Container\n",
    "list_cont=[1, 2, 3, 4.3, 3+5j, \"true\", \"Ajeet\"]\n",
    "list_cont\n",
    "    "
   ]
  },
  {
   "cell_type": "code",
   "execution_count": 31,
   "id": "196a1876-4773-4c46-a9b8-216cd508bb0f",
   "metadata": {},
   "outputs": [
    {
     "data": {
      "text/plain": [
       "3"
      ]
     },
     "execution_count": 31,
     "metadata": {},
     "output_type": "execute_result"
    }
   ],
   "source": [
    "list_cont[2]\n"
   ]
  },
  {
   "cell_type": "code",
   "execution_count": 32,
   "id": "84369076-e3a3-41ac-b976-e36aa008ecb4",
   "metadata": {},
   "outputs": [
    {
     "data": {
      "text/plain": [
       "'true'"
      ]
     },
     "execution_count": 32,
     "metadata": {},
     "output_type": "execute_result"
    }
   ],
   "source": [
    "list_cont[5]"
   ]
  },
  {
   "cell_type": "code",
   "execution_count": 34,
   "id": "285b424f-6d0c-44c3-b370-70b9b53e125d",
   "metadata": {},
   "outputs": [
    {
     "data": {
      "text/plain": [
       "[1, 2, 3, 4.3, (3+5j), 'true', 'Satyajeet']"
      ]
     },
     "execution_count": 34,
     "metadata": {},
     "output_type": "execute_result"
    }
   ],
   "source": [
    "list_cont[6]= \"Satyajeet\"\n",
    "list_cont"
   ]
  },
  {
   "cell_type": "markdown",
   "id": "27e5abca-370b-495e-b37a-846094656f93",
   "metadata": {},
   "source": [
    "Immutable Objects:  Immutable objects cannot be modified after they are created. Any operation that appears to modify an immutable object actually creates a new object with the modified value.\n",
    "\n",
    "       "
   ]
  },
  {
   "cell_type": "code",
   "execution_count": 35,
   "id": "f20500d0-5779-45c7-aa56-8a5bdd2846b6",
   "metadata": {},
   "outputs": [
    {
     "data": {
      "text/plain": [
       "'pwskills'"
      ]
     },
     "execution_count": 35,
     "metadata": {},
     "output_type": "execute_result"
    }
   ],
   "source": [
    "b=\"pwskills\"\n",
    "b"
   ]
  },
  {
   "cell_type": "code",
   "execution_count": 36,
   "id": "899cb753-532b-4315-ba6b-3cbe2a17ba3f",
   "metadata": {},
   "outputs": [
    {
     "ename": "TypeError",
     "evalue": "'str' object does not support item assignment",
     "output_type": "error",
     "traceback": [
      "\u001b[0;31m---------------------------------------------------------------------------\u001b[0m",
      "\u001b[0;31mTypeError\u001b[0m                                 Traceback (most recent call last)",
      "Cell \u001b[0;32mIn[36], line 1\u001b[0m\n\u001b[0;32m----> 1\u001b[0m \u001b[43mb\u001b[49m\u001b[43m[\u001b[49m\u001b[38;5;241;43m0\u001b[39;49m\u001b[43m]\u001b[49m\u001b[38;5;241m=\u001b[39m\u001b[38;5;124m\"\u001b[39m\u001b[38;5;124mi\u001b[39m\u001b[38;5;124m\"\u001b[39m\n",
      "\u001b[0;31mTypeError\u001b[0m: 'str' object does not support item assignment"
     ]
    }
   ],
   "source": [
    "#Immutable objects\n",
    "b[0]=\"i\""
   ]
  },
  {
   "cell_type": "code",
   "execution_count": 38,
   "id": "dcf3131e-12e1-41f3-8bb9-304ce314bc89",
   "metadata": {},
   "outputs": [
    {
     "ename": "TypeError",
     "evalue": "'str' object does not support item assignment",
     "output_type": "error",
     "traceback": [
      "\u001b[0;31m---------------------------------------------------------------------------\u001b[0m",
      "\u001b[0;31mTypeError\u001b[0m                                 Traceback (most recent call last)",
      "Cell \u001b[0;32mIn[38], line 1\u001b[0m\n\u001b[0;32m----> 1\u001b[0m \u001b[43mb\u001b[49m\u001b[43m[\u001b[49m\u001b[38;5;241;43m5\u001b[39;49m\u001b[43m]\u001b[49m\u001b[38;5;241m=\u001b[39m\u001b[38;5;124m\"\u001b[39m\u001b[38;5;124mAjeet\u001b[39m\u001b[38;5;124m\"\u001b[39m\n",
      "\u001b[0;31mTypeError\u001b[0m: 'str' object does not support item assignment"
     ]
    }
   ],
   "source": [
    "b[5]=\"Ajeet\""
   ]
  },
  {
   "cell_type": "markdown",
   "id": "ec6f44ac-99a3-4b6e-a480-58eddcc90978",
   "metadata": {},
   "source": [
    "Choosing the Right Types: \n",
    "\n",
    "   *Use Mutable objects when you need to modify data frequently or Whwn you need to manage collections of data that can change dynamically.\n",
    "   \n",
    "   \n",
    "   *Use Immutability objects when you need to ensure data integrity, when you need to use objects as dictionary kry or when you are working in a multi threaded environment. "
   ]
  },
  {
   "cell_type": "code",
   "execution_count": null,
   "id": "0932c819-dc12-45cc-9785-b92fe0839b7f",
   "metadata": {},
   "outputs": [],
   "source": []
  },
  {
   "cell_type": "code",
   "execution_count": null,
   "id": "0134a335-24f3-48be-93cc-4c173062eb20",
   "metadata": {},
   "outputs": [],
   "source": []
  },
  {
   "cell_type": "code",
   "execution_count": null,
   "id": "5ed57c0d-5b18-4a8a-83c8-f79e9238096b",
   "metadata": {},
   "outputs": [],
   "source": []
  },
  {
   "cell_type": "code",
   "execution_count": null,
   "id": "b6f7aa1a-3e7b-4cd6-8027-24c584c6f6aa",
   "metadata": {},
   "outputs": [],
   "source": []
  },
  {
   "cell_type": "markdown",
   "id": "4f2c7e9e-99f3-46f9-9f17-6d2e64f31225",
   "metadata": {},
   "source": [
    "4. Discuss the different types of Operators in Python and Provide examples of how they are used.\n",
    "\n",
    "\n",
    "Ans -  Python offers a variety of operators that allow you to perform different operations on data. Here's a breakdown of the different types of operators in Python with examples:\n",
    "\n",
    "        "
   ]
  },
  {
   "cell_type": "raw",
   "id": "2cc4f18a-71cd-4d49-bb5f-ea3a20f82b7c",
   "metadata": {},
   "source": [
    "          1. Arithmetic Operators:These operators are used to perform Mathematical calculation \n",
    "   "
   ]
  },
  {
   "cell_type": "code",
   "execution_count": 40,
   "id": "cea156d2-bfa6-4751-a09b-7712e49b34bd",
   "metadata": {},
   "outputs": [
    {
     "data": {
      "text/plain": [
       "7"
      ]
     },
     "execution_count": 40,
     "metadata": {},
     "output_type": "execute_result"
    }
   ],
   "source": [
    "   #Addition (+): Adds two operands.\n",
    "a=4\n",
    "b=3\n",
    "a+b"
   ]
  },
  {
   "cell_type": "code",
   "execution_count": null,
   "id": "8418af0b-6693-441a-89cb-787fe9cba67f",
   "metadata": {},
   "outputs": [],
   "source": [
    "  #Subtraction (-): Subtracts the right operand from the left operand\n"
   ]
  },
  {
   "cell_type": "code",
   "execution_count": 43,
   "id": "2e0e5a6f-4269-4685-be04-610e9fba4adb",
   "metadata": {},
   "outputs": [
    {
     "name": "stdout",
     "output_type": "stream",
     "text": [
      "4\n"
     ]
    }
   ],
   "source": [
    "X=10-6\n",
    "print(X)"
   ]
  },
  {
   "cell_type": "code",
   "execution_count": null,
   "id": "9505007f-d417-4eae-95a5-37887e4dc9c7",
   "metadata": {},
   "outputs": [],
   "source": [
    "  #Multiplication ():*: Multiplies two operands.\n"
   ]
  },
  {
   "cell_type": "code",
   "execution_count": 44,
   "id": "12b83309-5de4-48a3-9e4a-f039d239e535",
   "metadata": {},
   "outputs": [
    {
     "data": {
      "text/plain": [
       "18"
      ]
     },
     "execution_count": 44,
     "metadata": {},
     "output_type": "execute_result"
    }
   ],
   "source": [
    "x=6\n",
    "b=3\n",
    "x*b"
   ]
  },
  {
   "cell_type": "code",
   "execution_count": null,
   "id": "c5ca0316-73ba-4ae2-8627-63c1c6404a7d",
   "metadata": {},
   "outputs": [],
   "source": [
    "#Division (/): Divides the left operand by the right operand."
   ]
  },
  {
   "cell_type": "code",
   "execution_count": 45,
   "id": "820a79aa-c58e-4ed4-8f86-4ea58c56f070",
   "metadata": {},
   "outputs": [
    {
     "data": {
      "text/plain": [
       "3.0"
      ]
     },
     "execution_count": 45,
     "metadata": {},
     "output_type": "execute_result"
    }
   ],
   "source": [
    "a=9\n",
    "b=3\n",
    "a/b"
   ]
  },
  {
   "cell_type": "code",
   "execution_count": null,
   "id": "a52dddff-981f-4995-a422-2b9f48ab6324",
   "metadata": {},
   "outputs": [],
   "source": [
    "#Floor Division (//): Divides the left operand by the right operand and rounds down to the nearest whole number.\n"
   ]
  },
  {
   "cell_type": "code",
   "execution_count": 46,
   "id": "bb90dcb5-cca1-4755-b868-5c265486a025",
   "metadata": {},
   "outputs": [
    {
     "data": {
      "text/plain": [
       "5"
      ]
     },
     "execution_count": 46,
     "metadata": {},
     "output_type": "execute_result"
    }
   ],
   "source": [
    "b=25\n",
    "a=5\n",
    "b//a"
   ]
  },
  {
   "cell_type": "code",
   "execution_count": null,
   "id": "3ce50a1d-e340-4f5d-8157-063b7f156e14",
   "metadata": {},
   "outputs": [],
   "source": [
    "#Modulus (%): Returns the remainder when the left operand is divided by the right operand.\n"
   ]
  },
  {
   "cell_type": "code",
   "execution_count": 48,
   "id": "d068f6e0-397c-416c-9d91-40634634c666",
   "metadata": {},
   "outputs": [
    {
     "name": "stdout",
     "output_type": "stream",
     "text": [
      "2\n"
     ]
    }
   ],
   "source": [
    "a=72%5\n",
    "print(a)"
   ]
  },
  {
   "cell_type": "code",
   "execution_count": null,
   "id": "7754f2e1-e0f2-4aec-9699-45877915374d",
   "metadata": {},
   "outputs": [],
   "source": [
    "#Exponentiation () :** Raises the left operand to the power of the right operand"
   ]
  },
  {
   "cell_type": "code",
   "execution_count": 52,
   "id": "d1803ff7-5edd-4446-9025-6bc4f45bd87f",
   "metadata": {},
   "outputs": [
    {
     "name": "stdout",
     "output_type": "stream",
     "text": [
      "8\n"
     ]
    }
   ],
   "source": [
    "a=2**3\n",
    "print(a)"
   ]
  },
  {
   "cell_type": "raw",
   "id": "2ce3fe82-fb9d-4178-ae30-636730d81c5e",
   "metadata": {},
   "source": [
    "          2. Comparison Operators:These operators are used to compare values and return a boolean result (True or False)\n",
    "    "
   ]
  },
  {
   "cell_type": "code",
   "execution_count": 53,
   "id": "aa6336cd-2282-40f5-8b48-8f1f05bbb4ab",
   "metadata": {},
   "outputs": [
    {
     "data": {
      "text/plain": [
       "True"
      ]
     },
     "execution_count": 53,
     "metadata": {},
     "output_type": "execute_result"
    }
   ],
   "source": [
    "#Equal to (==): Checks if two operands are equal\n",
    "\n",
    "5==5"
   ]
  },
  {
   "cell_type": "code",
   "execution_count": null,
   "id": "3dcaa993-012c-4955-9769-a9b4fbf9a0f3",
   "metadata": {},
   "outputs": [],
   "source": [
    "#Not equal to (!=): Checks if two operands are not equal."
   ]
  },
  {
   "cell_type": "code",
   "execution_count": 54,
   "id": "6fbf8069-5928-421c-a491-0157b0c3c055",
   "metadata": {},
   "outputs": [
    {
     "data": {
      "text/plain": [
       "True"
      ]
     },
     "execution_count": 54,
     "metadata": {},
     "output_type": "execute_result"
    }
   ],
   "source": [
    "5!=6"
   ]
  },
  {
   "cell_type": "code",
   "execution_count": null,
   "id": "f93809d7-bb63-4b50-a068-733f31f1f8a5",
   "metadata": {},
   "outputs": [],
   "source": [
    "#Greater than (>): Checks if the left operand is greater than the right operand.\n"
   ]
  },
  {
   "cell_type": "code",
   "execution_count": 55,
   "id": "e9c6de39-cbd1-4905-8cd8-d201820d1003",
   "metadata": {},
   "outputs": [
    {
     "data": {
      "text/plain": [
       "True"
      ]
     },
     "execution_count": 55,
     "metadata": {},
     "output_type": "execute_result"
    }
   ],
   "source": [
    "10>6"
   ]
  },
  {
   "cell_type": "code",
   "execution_count": null,
   "id": "349c74e0-4e2e-4d14-8f65-6f7af819fe64",
   "metadata": {},
   "outputs": [],
   "source": [
    "#Less than (<): Checks if the left operand is less than the right operand"
   ]
  },
  {
   "cell_type": "code",
   "execution_count": 57,
   "id": "b3325504-cd3b-4856-b11e-64a2aea8ee8b",
   "metadata": {},
   "outputs": [
    {
     "data": {
      "text/plain": [
       "True"
      ]
     },
     "execution_count": 57,
     "metadata": {},
     "output_type": "execute_result"
    }
   ],
   "source": [
    "45<85"
   ]
  },
  {
   "cell_type": "code",
   "execution_count": null,
   "id": "0eb3d689-49f1-4c4f-b24f-6154c1651355",
   "metadata": {},
   "outputs": [],
   "source": [
    "#Greater than or equal to (>=): Checks if the left operand is greater than or equal to the right operand"
   ]
  },
  {
   "cell_type": "code",
   "execution_count": 58,
   "id": "7fb6aa45-13dc-401b-b5b4-fed217e59253",
   "metadata": {},
   "outputs": [
    {
     "data": {
      "text/plain": [
       "True"
      ]
     },
     "execution_count": 58,
     "metadata": {},
     "output_type": "execute_result"
    }
   ],
   "source": [
    "10>=10"
   ]
  },
  {
   "cell_type": "code",
   "execution_count": null,
   "id": "13cc8c47-73a0-4731-bf91-eec94b8acaaa",
   "metadata": {},
   "outputs": [],
   "source": [
    "#Less than or equal to (<=): Checks if the left operand is less than or equal to the right operand.\n"
   ]
  },
  {
   "cell_type": "code",
   "execution_count": 59,
   "id": "7fd6be69-c394-4cc2-8004-b68ad06d9cbd",
   "metadata": {},
   "outputs": [
    {
     "data": {
      "text/plain": [
       "True"
      ]
     },
     "execution_count": 59,
     "metadata": {},
     "output_type": "execute_result"
    }
   ],
   "source": [
    "5<=5"
   ]
  },
  {
   "cell_type": "raw",
   "id": "1c526449-eb73-43a1-af4f-96072dd95b6e",
   "metadata": {},
   "source": [
    "            3. Logical Operators:These operators are used to combine boolean expressions"
   ]
  },
  {
   "cell_type": "code",
   "execution_count": null,
   "id": "b2d81d55-49d0-4a98-82ed-95ef6449971f",
   "metadata": {},
   "outputs": [],
   "source": [
    "#and: Returns True if both operands are True."
   ]
  },
  {
   "cell_type": "code",
   "execution_count": 66,
   "id": "8c0bba19-655f-4f68-ad6e-f313ba441173",
   "metadata": {},
   "outputs": [
    {
     "data": {
      "text/plain": [
       "True"
      ]
     },
     "execution_count": 66,
     "metadata": {},
     "output_type": "execute_result"
    }
   ],
   "source": [
    "10>2"
   ]
  },
  {
   "cell_type": "code",
   "execution_count": 67,
   "id": "281eaadb-7d4e-4a46-bfdc-ac547fc24062",
   "metadata": {},
   "outputs": [
    {
     "data": {
      "text/plain": [
       "True"
      ]
     },
     "execution_count": 67,
     "metadata": {},
     "output_type": "execute_result"
    }
   ],
   "source": [
    "8<78"
   ]
  },
  {
   "cell_type": "code",
   "execution_count": null,
   "id": "69ec6918-ec1c-453c-8e22-7de3cb62c39c",
   "metadata": {},
   "outputs": [],
   "source": [
    "#or: Returns True if at least one operand is True"
   ]
  },
  {
   "cell_type": "code",
   "execution_count": 72,
   "id": "78786825-9703-4117-8a51-77057b6f589f",
   "metadata": {},
   "outputs": [
    {
     "data": {
      "text/plain": [
       "True"
      ]
     },
     "execution_count": 72,
     "metadata": {},
     "output_type": "execute_result"
    }
   ],
   "source": [
    "x>2 or y<10"
   ]
  },
  {
   "cell_type": "code",
   "execution_count": null,
   "id": "02c821cb-4897-4ea8-a76a-17e06fa91ea7",
   "metadata": {},
   "outputs": [],
   "source": [
    "#not: Returns the opposite of the operand's Boolean value.\n"
   ]
  },
  {
   "cell_type": "code",
   "execution_count": 73,
   "id": "3d414650-ca26-4b5b-81fe-78806714ad3f",
   "metadata": {},
   "outputs": [
    {
     "data": {
      "text/plain": [
       "False"
      ]
     },
     "execution_count": 73,
     "metadata": {},
     "output_type": "execute_result"
    }
   ],
   "source": [
    "   not x > 0  # True if x is not greater than 0 "
   ]
  },
  {
   "cell_type": "raw",
   "id": "291171e0-097e-45dc-9931-67375e5551ec",
   "metadata": {},
   "source": [
    "                 4. Assignment Operators:"
   ]
  },
  {
   "cell_type": "code",
   "execution_count": null,
   "id": "61eefa98-42da-4338-8698-16e15309065f",
   "metadata": {},
   "outputs": [],
   "source": [
    "#Assign (=): Assigns the value on the right to the variable on the left.\n"
   ]
  },
  {
   "cell_type": "code",
   "execution_count": null,
   "id": "6efbd0fc-6f2a-4ed5-b093-4da7f4409e9d",
   "metadata": {},
   "outputs": [],
   "source": [
    "   x = 5 "
   ]
  },
  {
   "cell_type": "code",
   "execution_count": null,
   "id": "52452593-cedd-422c-a050-66c8afc3d938",
   "metadata": {},
   "outputs": [],
   "source": [
    "#Add and assign (+=): Adds the right operand to the left operand and assigns the result to the left operand.\n"
   ]
  },
  {
   "cell_type": "code",
   "execution_count": 75,
   "id": "e79bd6d9-2d26-4311-af98-6cd19461487d",
   "metadata": {},
   "outputs": [],
   "source": [
    "   x += 2  # Equivalent to x = x + 2 "
   ]
  },
  {
   "cell_type": "code",
   "execution_count": null,
   "id": "f08ab38f-dce1-4d7f-9c9c-57671fd563cb",
   "metadata": {},
   "outputs": [],
   "source": [
    "#Subtract and assign (-=): Subtracts the right operand from the left operand and assigns the result to the left operand.\n"
   ]
  },
  {
   "cell_type": "code",
   "execution_count": null,
   "id": "781f942d-c4b5-4b8b-8aa5-fdf814f7a6da",
   "metadata": {},
   "outputs": [],
   "source": [
    "   x -= 2  # Equivalent to x = x - 2 "
   ]
  },
  {
   "cell_type": "code",
   "execution_count": null,
   "id": "79c56ab4-55aa-4a88-b3ed-48064e813d36",
   "metadata": {},
   "outputs": [],
   "source": [
    "#Multiply and assign (=): Multiplies the left operand by the right operand and assigns the result to the left operand."
   ]
  },
  {
   "cell_type": "code",
   "execution_count": null,
   "id": "e9f52b17-9880-456e-ae0e-63c324f61a7d",
   "metadata": {},
   "outputs": [],
   "source": [
    "   x *= 2  # Equivalent to x = x * 2 "
   ]
  },
  {
   "cell_type": "code",
   "execution_count": null,
   "id": "db346951-68d2-44aa-af13-384370ec6769",
   "metadata": {},
   "outputs": [],
   "source": [
    "#Divide and assign (/=): Divides the left operand by the right operand and assigns the result to the left operand"
   ]
  },
  {
   "cell_type": "code",
   "execution_count": null,
   "id": "c2809639-266c-4b12-b3a6-e587aa2be9fe",
   "metadata": {},
   "outputs": [],
   "source": [
    "   x /= 2  # Equivalent to x = x / 2 "
   ]
  },
  {
   "cell_type": "raw",
   "id": "3a6c5728-5f8e-428b-b784-d2e5003dfd8d",
   "metadata": {},
   "source": [
    "                    5. Membership Operators"
   ]
  },
  {
   "cell_type": "code",
   "execution_count": null,
   "id": "41010fb9-c1bb-473d-b2aa-3fa5e70dd7de",
   "metadata": {},
   "outputs": [],
   "source": [
    "#in: Checks if a value is present in a sequence.\n"
   ]
  },
  {
   "cell_type": "code",
   "execution_count": null,
   "id": "e2368588-885e-48e6-95f5-82bf2cf1e049",
   "metadata": {},
   "outputs": [],
   "source": [
    "   \"a\" in \"apple\"  # True "
   ]
  },
  {
   "cell_type": "code",
   "execution_count": null,
   "id": "f4985048-5483-4528-a5b3-47e319e2b817",
   "metadata": {},
   "outputs": [],
   "source": [
    "#not in: Checks if a value is not present in a sequence.\n"
   ]
  },
  {
   "cell_type": "code",
   "execution_count": null,
   "id": "45707ed2-b62e-4bd1-8938-5d275f7ee4ce",
   "metadata": {},
   "outputs": [],
   "source": [
    "   \"b\" not in \"apple\"  # True "
   ]
  },
  {
   "cell_type": "raw",
   "id": "3057dfac-a860-4745-a316-083375f761cb",
   "metadata": {},
   "source": [
    "                6. Identity Operators:\n"
   ]
  },
  {
   "cell_type": "code",
   "execution_count": null,
   "id": "4aae6e77-7df4-4c39-9491-af56d0df6a6f",
   "metadata": {},
   "outputs": [],
   "source": [
    "#is: Checks if two variables refer to the same object in memory.\n"
   ]
  },
  {
   "cell_type": "code",
   "execution_count": null,
   "id": "9d7267e7-efe2-4b64-a15b-93bfc1d38c5e",
   "metadata": {},
   "outputs": [],
   "source": [
    "   x is y  # True if x and y refer to the same object "
   ]
  },
  {
   "cell_type": "code",
   "execution_count": null,
   "id": "460fcbb0-fa79-4304-ba82-67d9f4f23cdd",
   "metadata": {},
   "outputs": [],
   "source": [
    "#is not: Checks if two variables do not refer to the same object in memory"
   ]
  },
  {
   "cell_type": "code",
   "execution_count": null,
   "id": "1c5beff7-de1f-428a-827c-5c5368c7540d",
   "metadata": {},
   "outputs": [],
   "source": [
    "   x is not y  # True if x and y do not refer to the same object "
   ]
  },
  {
   "cell_type": "raw",
   "id": "21688256-d83d-4dab-8a20-85e570bc0836",
   "metadata": {},
   "source": [
    "             7. Bitwise Operators:\n",
    "             \n",
    "Bitwise AND (&): Performs bitwise AND operation on two operands.\n",
    "Bitwise OR (|): Performs bitwise OR operation on two operands.\n",
    "Bitwise XOR (^): Performs bitwise XOR operation on two operands.\n",
    "Bitwise NOT (~): Performs bitwise NOT operation on the operand.\n",
    "Left shift (<<): Shifts the bits of the left operand to the left by the number of bits specified in the right operand.\n",
    "Right shift (>>): Shifts the bits of the left operand to the right by the number of bits specified in the right operand.\n"
   ]
  },
  {
   "cell_type": "code",
   "execution_count": null,
   "id": "bf3d63cb-236c-4b1b-8f5a-8b631dcebde1",
   "metadata": {},
   "outputs": [],
   "source": []
  },
  {
   "cell_type": "code",
   "execution_count": null,
   "id": "e855f9f7-f628-4c44-918d-72e123c6575d",
   "metadata": {},
   "outputs": [],
   "source": []
  },
  {
   "cell_type": "markdown",
   "id": "6769f0db-1ec0-45a5-99ff-69b52b7c32f2",
   "metadata": {},
   "source": [
    "5.    Explain the Concept of type Casting in Python with examples"
   ]
  },
  {
   "cell_type": "raw",
   "id": "11b22a21-ecee-4dd6-b836-70691763ce5e",
   "metadata": {},
   "source": [
    " Ans-   \"Type casting in Python, also known as type conversion, is the process of converting a value from one data type to another. This is important because different data types have different capabilities and operations associated with them\".\n",
    "   \n",
    "   Types of Type Casting:There are two types of type casting\n",
    "   \n",
    "    [1] Implicit Type Casting\n",
    "    [2] Explicit Type Casting\n",
    "  \n",
    "  "
   ]
  },
  {
   "cell_type": "markdown",
   "id": "480c6312-8c10-444b-8dc3-3ed905c9ad4e",
   "metadata": {},
   "source": [
    "[1]Implicit Type casting>>: Python automatically performs some type conversions without the need for explicit intervention. This typically happens when operations involve different data types, and Python attempts to convert them to a compatible type."
   ]
  },
  {
   "cell_type": "code",
   "execution_count": 2,
   "id": "f61c9b33-990e-4b8b-87e7-a916c1179c9b",
   "metadata": {},
   "outputs": [
    {
     "name": "stdout",
     "output_type": "stream",
     "text": [
      "20.5\n"
     ]
    }
   ],
   "source": [
    "x=10 #integer\n",
    "y=10.5 #float\n",
    "print(x+y) #Z will be float(20.5)"
   ]
  },
  {
   "cell_type": "code",
   "execution_count": null,
   "id": "70276d50-c334-434f-9b3b-bda43dda6097",
   "metadata": {},
   "outputs": [],
   "source": [
    "#In this example Python automatically converts the integer \"X\"  to a float before adding it to \"Y\""
   ]
  },
  {
   "cell_type": "code",
   "execution_count": null,
   "id": "1e7eca96-617f-4499-abdd-e2beeb3eea6b",
   "metadata": {},
   "outputs": [],
   "source": []
  },
  {
   "cell_type": "markdown",
   "id": "378a0dd3-bc43-46e8-b37a-b74b15972c64",
   "metadata": {},
   "source": [
    "[2] Explicit Type Casting : \"This is when you explicitly instruct Python to convert a value to a specific data type using built-in functions like int(), float(), str(), etc\""
   ]
  },
  {
   "cell_type": "code",
   "execution_count": null,
   "id": "697966f1-383c-4995-b943-b9d3a1a2a93c",
   "metadata": {},
   "outputs": [],
   "source": [
    "    x = \"10\"  # string\n",
    "    y = int(x)  # Explicitly convert x to an integer\n",
    "    print(y)  # Output: 10\n",
    "    print(type(y))  # Output: <class 'int'>"
   ]
  },
  {
   "cell_type": "code",
   "execution_count": null,
   "id": "b259aa9a-615c-4d1f-b737-620f86f5d4dd",
   "metadata": {},
   "outputs": [],
   "source": [
    "Common Type Casting Functions:\n",
    "int(): Converts a value to an integer.\n",
    "float(): Converts a value to a floating-point number.\n",
    "str(): Converts a value to a string.\n",
    "bool(): Converts a value to a boolean (True or False).\n",
    "list(): Converts a value to a list.\n",
    "tuple(): Converts a value to a tuple.\n",
    "set(): Converts a value to a set.\n",
    "dict(): Converts a value to a dictionary (requires a sequence of key-value pairs).\n"
   ]
  },
  {
   "cell_type": "code",
   "execution_count": null,
   "id": "92cf45fa-c8df-446c-b593-1887aaaf3801",
   "metadata": {},
   "outputs": [],
   "source": []
  },
  {
   "cell_type": "code",
   "execution_count": null,
   "id": "002fbfe3-0731-4294-8a36-87d9bb0d4712",
   "metadata": {},
   "outputs": [],
   "source": []
  },
  {
   "cell_type": "code",
   "execution_count": null,
   "id": "15532d37-fb25-4e13-be56-5608e064548a",
   "metadata": {},
   "outputs": [],
   "source": []
  },
  {
   "cell_type": "markdown",
   "id": "a2e37b90-2e25-46eb-9d2e-d58c744b5b09",
   "metadata": {},
   "source": [
    "6.    How to Conditional Statements Work in Python illustrate with examples"
   ]
  },
  {
   "cell_type": "raw",
   "id": "36f5a15d-7e4d-4c61-88cc-aac3631b5f96",
   "metadata": {},
   "source": [
    "Ans-   Conditional statements allow you to make decisions in your code based on certain condition the primary conditional statements are if, elif, and else.\n",
    "\n",
    "    Here's breakdown of how they work\n",
    "    \n",
    "    [1] if Statement: Execute a block of code if a specified condition is true.\n",
    "    \n",
    "    [2] elif Statement: Stand for \"else if\" it check another condition if the previous statement was false,\n",
    "    \n",
    "    [3] else Statement: Execute a block of code if none of the previous conditions were true    \n",
    "    \n",
    "    "
   ]
  },
  {
   "cell_type": "code",
   "execution_count": null,
   "id": "eae4f940-aa6c-4f6e-a476-d674ce9833b5",
   "metadata": {},
   "outputs": [],
   "source": [
    "#syntax\n",
    "    if condition1 : #code block for condition 1\n",
    "    elif conditions2 : # code block for condition 2\n",
    "    else \n",
    "         #code block if none of the condition are true."
   ]
  },
  {
   "cell_type": "code",
   "execution_count": 23,
   "id": "6cefc8f5-766f-42b4-aff7-1799bf7e0b67",
   "metadata": {},
   "outputs": [
    {
     "name": "stdout",
     "output_type": "stream",
     "text": [
      "You are an adult\n"
     ]
    }
   ],
   "source": [
    "age = 20\n",
    "if age < 18:\n",
    "    print(\"You are a minor\")\n",
    "elif(18<=age<=65):\n",
    "    print(\"You are an adult\")\n",
    "else:\n",
    "    print(\"You are a senior\")"
   ]
  },
  {
   "cell_type": "code",
   "execution_count": null,
   "id": "0a8b9f9f-0861-492a-a760-7aaa0ccc565b",
   "metadata": {},
   "outputs": [],
   "source": [
    " #Explanation :\n",
    "    \n",
    "    *The program check first condition \n",
    "       age<18, If is true it print \"You are a minor\"\n",
    "        \n",
    "        \n",
    "    * If the first conditionis false it moves to the elif condition \n",
    "      age>=18 and age<65, If that is true it print \"You are an adult\"\n",
    "        \n",
    "        \n",
    "    *If both conditions are false  the program execute the else block printing \"You are an adult\"\n",
    "    \n",
    "    \n",
    "         Conditional statement can be very powerful when building logic in Python program."
   ]
  },
  {
   "cell_type": "code",
   "execution_count": null,
   "id": "8beef57d-a076-4e6f-bd21-bb8f7c525b26",
   "metadata": {},
   "outputs": [],
   "source": []
  },
  {
   "cell_type": "code",
   "execution_count": null,
   "id": "4e8f1092-7969-40b0-ae47-7c4b6a89fc45",
   "metadata": {},
   "outputs": [],
   "source": []
  },
  {
   "cell_type": "code",
   "execution_count": null,
   "id": "f61bfa5e-4908-4a7e-81b6-aabae87d9387",
   "metadata": {},
   "outputs": [],
   "source": []
  },
  {
   "cell_type": "markdown",
   "id": "29004ad5-26d3-4fc2-ab10-742b3f25090a",
   "metadata": {},
   "source": [
    "7.     Describe the different types of loops in Python and their use cases with examples "
   ]
  },
  {
   "cell_type": "markdown",
   "id": "76ee9676-92a5-4fee-b1a1-429a0eb1819f",
   "metadata": {},
   "source": [
    "Python provides two primary types of loops : these are used for repeating a block of code. The main types are \"for loops\" and \"while loops\" Each serves different purpose and is suited for specific scenaries. Here's an overview of these loops along with example.\n",
    "\n",
    "\n",
    " [1] for loop :  The for loop iterates over a sequence (such as a list, tuple, string or range) and execute a block of code for each item in the sequence.\n",
    " \n",
    " \n",
    " \n",
    "   Use case : iterating over a collection of items. performing an action a fixed number of times.\n",
    "\n"
   ]
  },
  {
   "cell_type": "code",
   "execution_count": null,
   "id": "7c5e1dea-79b7-449c-876b-5e5a8ee55c7a",
   "metadata": {},
   "outputs": [],
   "source": [
    "#iterating over indices a sequence \n",
    "\n",
    "example >>"
   ]
  },
  {
   "cell_type": "code",
   "execution_count": 33,
   "id": "af2d51d7-6f60-4828-8262-228a42bdc3ea",
   "metadata": {},
   "outputs": [
    {
     "name": "stdout",
     "output_type": "stream",
     "text": [
      "p\n",
      "w\n",
      "s\n",
      "k\n",
      "i\n",
      "l\n",
      "l\n",
      "s\n"
     ]
    }
   ],
   "source": [
    "for i in\"pwskills\":\n",
    "    print (i)"
   ]
  },
  {
   "cell_type": "markdown",
   "id": "6efec0e1-4b9c-4ac1-9250-d9a9ef0b53e0",
   "metadata": {},
   "source": [
    "[2] while loop - The while loop repeatedly executes a block of code as long as a given condition is True. The loops stops\n",
    "  when the condition becomes false.\n",
    "  \n",
    "  \n",
    "  Use cases :  \n",
    "  \n",
    "      *When the number of iterations is not knowns beforehand \n",
    "     \n",
    "      *Whwn you need to continue looping until a specific condition change \n",
    "      \n",
    "      * Implementing complex loop termination condition \n",
    "      "
   ]
  },
  {
   "cell_type": "code",
   "execution_count": 1,
   "id": "e7609fba-0480-4c7f-9893-213712ac4eb7",
   "metadata": {},
   "outputs": [
    {
     "name": "stdout",
     "output_type": "stream",
     "text": [
      "1\n",
      "2\n",
      "3\n",
      "4\n",
      "5\n",
      "6\n"
     ]
    }
   ],
   "source": [
    "n=7\n",
    "i=1\n",
    "while i<n:\n",
    "    print(i)\n",
    "    i =i+1"
   ]
  },
  {
   "cell_type": "code",
   "execution_count": null,
   "id": "6a70c7bd-7a88-4dbb-ae14-5ea7488c0136",
   "metadata": {},
   "outputs": [],
   "source": []
  },
  {
   "cell_type": "code",
   "execution_count": null,
   "id": "21fce83a-1862-48d4-9bb5-7d74e3b6480c",
   "metadata": {},
   "outputs": [],
   "source": []
  },
  {
   "cell_type": "code",
   "execution_count": null,
   "id": "1d404c85-d578-4609-a84e-aa94d6ace59a",
   "metadata": {},
   "outputs": [],
   "source": []
  },
  {
   "cell_type": "code",
   "execution_count": null,
   "id": "37a4f334-4fe5-4b53-b55c-300b8809b80d",
   "metadata": {},
   "outputs": [],
   "source": []
  },
  {
   "cell_type": "code",
   "execution_count": null,
   "id": "8f4e081d-4758-4ed7-94c5-af9affe78022",
   "metadata": {},
   "outputs": [],
   "source": []
  },
  {
   "cell_type": "code",
   "execution_count": null,
   "id": "f9d7f1ea-62b2-4855-8ebc-9707d098c5fb",
   "metadata": {},
   "outputs": [],
   "source": []
  }
 ],
 "metadata": {
  "kernelspec": {
   "display_name": "Python 3 (ipykernel)",
   "language": "python",
   "name": "python3"
  },
  "language_info": {
   "codemirror_mode": {
    "name": "ipython",
    "version": 3
   },
   "file_extension": ".py",
   "mimetype": "text/x-python",
   "name": "python",
   "nbconvert_exporter": "python",
   "pygments_lexer": "ipython3",
   "version": "3.10.8"
  }
 },
 "nbformat": 4,
 "nbformat_minor": 5
}
